{
  "nbformat": 4,
  "nbformat_minor": 0,
  "metadata": {
    "colab": {
      "provenance": [],
      "include_colab_link": true
    },
    "kernelspec": {
      "name": "python3",
      "display_name": "Python 3"
    }
  },
  "cells": [
    {
      "cell_type": "markdown",
      "metadata": {
        "id": "view-in-github",
        "colab_type": "text"
      },
      "source": [
        "<a href=\"https://colab.research.google.com/github/stephvargas9/python/blob/main/Intro_Python_SIN_EJECUTAR.ipynb\" target=\"_parent\"><img src=\"https://colab.research.google.com/assets/colab-badge.svg\" alt=\"Open In Colab\"/></a>"
      ]
    },
    {
      "cell_type": "markdown",
      "source": [
        "# Grupo de Celdas de Introducción\n",
        "\n",
        "\n"
      ],
      "metadata": {
        "id": "_ZeE2bwhpLN2"
      }
    },
    {
      "cell_type": "code",
      "source": [],
      "metadata": {
        "id": "bLNut15Yrshu"
      },
      "execution_count": null,
      "outputs": []
    },
    {
      "cell_type": "code",
      "metadata": {
        "colab": {
          "base_uri": "https://localhost:8080/"
        },
        "id": "IG_YZR8JL_vj",
        "outputId": "68cf38ad-6560-4bbb-ec2f-95c3a5dbc99a"
      },
      "source": [
        "print(\"Buenas noches\")"
      ],
      "execution_count": null,
      "outputs": [
        {
          "output_type": "stream",
          "name": "stdout",
          "text": [
            "Buenas noches\n"
          ]
        }
      ]
    },
    {
      "cell_type": "markdown",
      "source": [
        "Buenas noches con todos \n",
        "\n",
        "**Bienvenidos a Python**"
      ],
      "metadata": {
        "id": "DeHL4ytAkPi9"
      }
    },
    {
      "cell_type": "code",
      "source": [
        "print(\"Hello World\")"
      ],
      "metadata": {
        "colab": {
          "base_uri": "https://localhost:8080/"
        },
        "id": "gZoee9fGJ-6V",
        "outputId": "f7bf3733-3e56-430d-ea06-50eb3c9f491d"
      },
      "execution_count": null,
      "outputs": [
        {
          "output_type": "stream",
          "name": "stdout",
          "text": [
            "Hello World\n"
          ]
        }
      ]
    },
    {
      "cell_type": "markdown",
      "source": [
        "***Buenas noches, bienvenidos a Colab de Google*** "
      ],
      "metadata": {
        "id": "iKZNqUzkwS5Q"
      }
    },
    {
      "cell_type": "code",
      "source": [
        "x=10\n",
        "y = 30\n",
        "z = x + y \n",
        "print(z)"
      ],
      "metadata": {
        "colab": {
          "base_uri": "https://localhost:8080/"
        },
        "id": "_8yZfiElwi6G",
        "outputId": "2197c126-992c-411a-b8e3-9d63f1dfa16a"
      },
      "execution_count": null,
      "outputs": [
        {
          "output_type": "stream",
          "name": "stdout",
          "text": [
            "40\n"
          ]
        }
      ]
    },
    {
      "cell_type": "code",
      "source": [
        "x = 90 "
      ],
      "metadata": {
        "id": "9Rt27JbsNpVB"
      },
      "execution_count": null,
      "outputs": []
    },
    {
      "cell_type": "code",
      "source": [
        "z"
      ],
      "metadata": {
        "colab": {
          "base_uri": "https://localhost:8080/"
        },
        "id": "QbMZvBpLLHJW",
        "outputId": "4a9afa0b-0d5d-42f1-bd76-e942997d66ca"
      },
      "execution_count": null,
      "outputs": [
        {
          "output_type": "execute_result",
          "data": {
            "text/plain": [
              "40"
            ]
          },
          "metadata": {},
          "execution_count": 7
        }
      ]
    },
    {
      "cell_type": "code",
      "source": [
        "z = x + y\n",
        "z"
      ],
      "metadata": {
        "colab": {
          "base_uri": "https://localhost:8080/"
        },
        "id": "2ibbCExKNv-2",
        "outputId": "2f315b49-2bf8-4148-eeea-c1d687aaaab5"
      },
      "execution_count": null,
      "outputs": [
        {
          "output_type": "execute_result",
          "data": {
            "text/plain": [
              "120"
            ]
          },
          "metadata": {},
          "execution_count": 8
        }
      ]
    },
    {
      "cell_type": "markdown",
      "metadata": {
        "id": "2JOiEzvREqs_"
      },
      "source": [
        "Python lidera la lista de herramientas más usadas en Analytics y Machine learning en 2019, tras una encuesta anual de KDnuggets, página líder en difusión de contenido de Analytics. Python es, además, el lenguaje más popular en cursos online masivos relacionados a análisis de datos (MOOC's).\n",
        "\n",
        "![texto alternativo](https://www.kdnuggets.com/images/top-analytics-data-science-machine-learning-software-2019-3yrs-590.jpg)"
      ]
    },
    {
      "cell_type": "markdown",
      "metadata": {
        "id": "PEwgoKhAeSFV"
      },
      "source": [
        "Buenas Noches"
      ]
    },
    {
      "cell_type": "markdown",
      "metadata": {
        "id": "miuk0kPpcmju"
      },
      "source": [
        "Buenas noches con todos, bienvenidos a Python\n"
      ]
    },
    {
      "cell_type": "markdown",
      "metadata": {
        "id": "mchFZfw80RaQ"
      },
      "source": []
    },
    {
      "cell_type": "markdown",
      "metadata": {
        "id": "4TkhvlLC_NFO"
      },
      "source": [
        "Creado en 1989, Python es un lenguaje de programación **orientado a objetos**. Ventajas:\n",
        "\n",
        "- Fácil de aprender y leer, en comparación con otros lenguajes. Su sintaxis (forma de programar) es naturalmente similar al inglés.\n",
        "- *Open source* (gratuito, desarrollado por la comunidad).\n",
        "- Permite el rápido desarrollo de prototipos de aplicaciones complejas.\n",
        "- Cuenta con muchas extensiones que lo convierten en una potente herramienta para desarrollar proyectos de análisis de datos.\n",
        "\n",
        "![texto alternativo](data:image/png;base64,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)\n",
        "\n",
        "El paradigma de **orientación a objetos** implica lo siguiente:\n",
        "\n",
        "- Cualquier tipo de dato que se trabaje deberá estar almacenado como un **objeto**.\n",
        "- Los objetos son **variables y funciones** que se almacenan en la memoria de la computadora, con un nombre que permitirá ubicarlos.\n",
        "- Cada objeto pertenece a una **clase**, la cual es una **estructura de datos** con características propias, que establecen **reglas** para grabar, extraer y operar la información que contiene.\n",
        "\n",
        "Lo anterior significa que:\n",
        "\n",
        "1. Primero se crean clases con propiedades deseadas.\n",
        "1. Luego se generan instancias (casos particulares) que nos interesa utilizar. Estas instancias **heredan** las propiedades de la clase a la que pertenece.\n",
        "\n",
        "![texto alternativo](https://he-s3.s3.amazonaws.com/media/uploads/0a623462-e5ad-4797-83c3-49a1432edcc8.png)\n"
      ]
    },
    {
      "cell_type": "markdown",
      "metadata": {
        "id": "FYXWj9B9KiPy"
      },
      "source": [
        "Además, Python es un **lenguaje interpretado**. Esto significa que podemos programar varias secciones de código y ejecutar una por una, obteniendo  resultados inmediatamente.\n",
        "\n",
        "> No es necesario crear un programa de gran tamaño para obtener resultados. Es posible experimentar mientras se construyen modelos analíticos, lo cual es una gran ventaja.\n",
        "\n",
        "![texto alternativo](https://miro.medium.com/max/1200/1*3Iy-ohRRXj3lChmEbQTxIQ.png)"
      ]
    },
    {
      "cell_type": "markdown",
      "metadata": {
        "id": "suIh9A3KNjSc"
      },
      "source": [
        "## Elementos nativos de Python\n",
        "\n",
        "Trabajaremos con los siguientes tipos básicos de datos:\n",
        "\n",
        "`````python\n",
        "float (punto flotante o continuo) ---> 3.1415\n",
        "int (entero)                      ---> 987\n",
        "str (texto)                       ---> \"Gold Fields\"\n",
        "bool (verdadero o falso - False, True)\n",
        "`````"
      ]
    },
    {
      "cell_type": "code",
      "source": [
        "x = False\n",
        "type(x) #este comando me da el tipo de variable usada"
      ],
      "metadata": {
        "colab": {
          "base_uri": "https://localhost:8080/"
        },
        "id": "kcF8Cak3O7Ty",
        "outputId": "6e7624b8-9102-417f-cce9-f90794a448d4"
      },
      "execution_count": null,
      "outputs": [
        {
          "output_type": "execute_result",
          "data": {
            "text/plain": [
              "bool"
            ]
          },
          "metadata": {},
          "execution_count": 15
        }
      ]
    },
    {
      "cell_type": "markdown",
      "metadata": {
        "id": "p-XTn-Vefv0w"
      },
      "source": [
        "Prueba de campo de texto "
      ]
    },
    {
      "cell_type": "code",
      "metadata": {
        "id": "JZCIJVbrQE98",
        "colab": {
          "base_uri": "https://localhost:8080/"
        },
        "outputId": "dde43479-1e4d-4a02-dda2-ba42d371b0a9"
      },
      "source": [
        "# En Python, los comentarios al código se escriben con numeral ('#') y estos no se ejecutan\n",
        "# esto significa que la linea no se lee. \n",
        "# Asignamos datos a las variables con el operador de asignación ('=')\n",
        "# Los NOMBRES de las variables NO PUEDEN TENER ESPACIOS. Se sugiere utilizar '_' en vez del espacio\n",
        "# esto no lo corre el modelo... \n",
        "x = 3.20\n",
        "print(x)\n",
        "\n",
        "# Con la función 'type', podemos verificar el tipo de dato de cualquier objeto:\n",
        "type(x)\n",
        "\n",
        "# En Python, la última línea con código se imprime sin necesidad de usar la función 'print' (como la línea 9)"
      ],
      "execution_count": null,
      "outputs": [
        {
          "output_type": "stream",
          "name": "stdout",
          "text": [
            "3.2\n"
          ]
        },
        {
          "output_type": "execute_result",
          "data": {
            "text/plain": [
              "float"
            ]
          },
          "metadata": {},
          "execution_count": 12
        }
      ]
    },
    {
      "cell_type": "markdown",
      "metadata": {
        "id": "C08o6owLfbA6"
      },
      "source": []
    },
    {
      "cell_type": "code",
      "metadata": {
        "id": "M08wwyUpNi7z",
        "colab": {
          "base_uri": "https://localhost:8080/"
        },
        "outputId": "b1b1d6c4-e6f3-4450-83fd-69df7c36e8b9"
      },
      "source": [
        "# Vemos un float:\n",
        "x = 20.2\n",
        "print(x)\n",
        "type(x)\n",
        "#print(x)\n"
      ],
      "execution_count": null,
      "outputs": [
        {
          "output_type": "stream",
          "name": "stdout",
          "text": [
            "20.2\n"
          ]
        },
        {
          "output_type": "execute_result",
          "data": {
            "text/plain": [
              "float"
            ]
          },
          "metadata": {},
          "execution_count": 16
        }
      ]
    },
    {
      "cell_type": "code",
      "metadata": {
        "id": "Ehy5hJ0XSP5f",
        "colab": {
          "base_uri": "https://localhost:8080/"
        },
        "outputId": "0e24f24a-50c9-465b-be2f-014354f024fe"
      },
      "source": [
        "y = 10.1\n",
        "type(y)\n",
        "type(z)"
      ],
      "execution_count": null,
      "outputs": [
        {
          "output_type": "execute_result",
          "data": {
            "text/plain": [
              "int"
            ]
          },
          "metadata": {},
          "execution_count": 20
        }
      ]
    },
    {
      "cell_type": "code",
      "metadata": {
        "id": "JKyfpfTrTcB5",
        "colab": {
          "base_uri": "https://localhost:8080/"
        },
        "outputId": "75df47ab-38c5-4c53-e7f0-f0c802f4979c"
      },
      "source": [
        "\n",
        "# Es posible realizar operaciones aritméticas con objetos int y float:\n",
        "#x = 1 + 3 \n",
        "#print(x)\n",
        "x=5\n",
        "print(x)\n",
        "y = 2.3 - 0.123 * x\n",
        "z = 2 / 6\n",
        "x = y + z\n",
        "print(x)\n",
        "\n",
        "potencia = 3 ** 3 # el doble asterisco implica potencia\n"
      ],
      "execution_count": null,
      "outputs": [
        {
          "output_type": "stream",
          "name": "stdout",
          "text": [
            "5\n",
            "2.018333333333333\n"
          ]
        }
      ]
    },
    {
      "cell_type": "code",
      "metadata": {
        "id": "8_PRf_LsRf46",
        "colab": {
          "base_uri": "https://localhost:8080/"
        },
        "outputId": "6129ef4c-8d12-450c-bfba-2d0c7a93b41e"
      },
      "source": [
        "# Un bool:\n",
        "x = True\n",
        "y = False\n",
        "\n",
        "print(x)\n",
        "print(y)\n",
        "\n",
        "print(type(x))\n",
        "print(type(y))"
      ],
      "execution_count": null,
      "outputs": [
        {
          "output_type": "stream",
          "name": "stdout",
          "text": [
            "True\n",
            "False\n",
            "<class 'bool'>\n",
            "<class 'bool'>\n"
          ]
        }
      ]
    },
    {
      "cell_type": "code",
      "metadata": {
        "id": "5z7QrRMkSyMo",
        "colab": {
          "base_uri": "https://localhost:8080/"
        },
        "outputId": "0fd05e33-ad6d-4b4a-9017-7684b160ed01"
      },
      "source": [
        "# Vemos un float:\n",
        "x = 1.2\n",
        "print(x)\n",
        "type(x)"
      ],
      "execution_count": null,
      "outputs": [
        {
          "output_type": "stream",
          "text": [
            "1.2\n"
          ],
          "name": "stdout"
        },
        {
          "output_type": "execute_result",
          "data": {
            "text/plain": [
              "float"
            ]
          },
          "metadata": {
            "tags": []
          },
          "execution_count": 21
        }
      ]
    },
    {
      "cell_type": "code",
      "metadata": {
        "id": "WkQHwY_8RkVK",
        "colab": {
          "base_uri": "https://localhost:8080/"
        },
        "outputId": "c4f41079-d67a-4701-adf7-0fb4caeb0d32"
      },
      "source": [
        "# Las variables 'bool' sirven para realizar comparaciones lógicas. Más adelante veremos que\n",
        "# sirven para filtrar información:\n",
        "x = 2019 > 2000\n",
        "y = 2019 >= 2020\n",
        "\n",
        "print(x)\n",
        "print(y)\n",
        "\n",
        "print(type(x))\n",
        "print(type(y))"
      ],
      "execution_count": null,
      "outputs": [
        {
          "output_type": "stream",
          "name": "stdout",
          "text": [
            "True\n",
            "False\n",
            "<class 'bool'>\n",
            "<class 'bool'>\n"
          ]
        }
      ]
    },
    {
      "cell_type": "code",
      "metadata": {
        "id": "okB_ZautSEt6",
        "colab": {
          "base_uri": "https://localhost:8080/"
        },
        "outputId": "80a8b80d-0260-41b7-bbb9-bad2f1f3f6d0"
      },
      "source": [
        "x = (2019 < 2000)  # Es False\n",
        "y = (2019 >= 2000) # Es True\n",
        "print(x)\n",
        "print(y)\n",
        "# Con el operador '&', se realizan comparaciones lógicas del tipo Y\n",
        "print(x & y)\n",
        "\n",
        "# Con el operador '|', se realizan comparaciones lógicas del tipo O\n",
        "print(x | y)"
      ],
      "execution_count": null,
      "outputs": [
        {
          "output_type": "stream",
          "name": "stdout",
          "text": [
            "False\n",
            "True\n",
            "False\n",
            "True\n"
          ]
        }
      ]
    },
    {
      "cell_type": "markdown",
      "metadata": {
        "id": "4iYAG9j7l_Qq"
      },
      "source": [
        "Las comparaciones lógicas más frecuentes son:\n",
        "\n",
        "![texto alternativo](http://www2.hawaii.edu/~takebaya/cent110/selection/relational_operators.png)"
      ]
    },
    {
      "cell_type": "code",
      "metadata": {
        "id": "3KsZ66MERQJz",
        "colab": {
          "base_uri": "https://localhost:8080/"
        },
        "outputId": "2e7d17ae-c1c5-4742-ad7a-4988b36e9d30"
      },
      "source": [
        "# Las cadenas de texto se crean con comillas simples o dobles:\n",
        "x = '\"Gold Fields\"'\n",
        "print(x)\n",
        "type(x)\n",
        "x=3.14\n",
        "print(x)\n",
        "type(x)"
      ],
      "execution_count": null,
      "outputs": [
        {
          "output_type": "stream",
          "name": "stdout",
          "text": [
            "\"Gold Fields\"\n",
            "3.14\n"
          ]
        },
        {
          "output_type": "execute_result",
          "data": {
            "text/plain": [
              "float"
            ]
          },
          "metadata": {},
          "execution_count": 21
        }
      ]
    },
    {
      "cell_type": "markdown",
      "metadata": {
        "id": "hnAQUnbxUpgY"
      },
      "source": [
        "Cada tipo de dato cuenta con **métodos**, los cuales son operaciones especiales que se definen para una clase en Python, y actúan únicamente sobre esta y sobre clases derivadas. Son relevantes para el procesamiento a realizar con modelos analíticos. Podemos utilizar los métodos de cada objeto de la siguiente manera:"
      ]
    },
    {
      "cell_type": "code",
      "metadata": {
        "id": "Vjh80dIaVJwQ",
        "colab": {
          "base_uri": "https://localhost:8080/"
        },
        "outputId": "57033380-db99-4854-d75c-8361d3e63e85"
      },
      "source": [
        "x = 'Gold Fieldsd'\n",
        "print(x)\n",
        "# Utilizamos un punto ('.') a la derecha de la variable para acceder a los métodos\n",
        "# de la clase 'str':\n",
        "print( x.upper() ) # 'upper' devuelve el texto en mayúsculas\n",
        "print( x.count('d') ) # cuenta la cantidad de repeticiones de 'd'\n",
        "print(x)"
      ],
      "execution_count": null,
      "outputs": [
        {
          "output_type": "stream",
          "name": "stdout",
          "text": [
            "Gold Fieldsd\n",
            "GOLD FIELDSD\n",
            "3\n",
            "Gold Fieldsd\n"
          ]
        }
      ]
    },
    {
      "cell_type": "markdown",
      "metadata": {
        "id": "dGudvECzJHuh"
      },
      "source": [
        "## Estructuras de datos básicas\n",
        "\n",
        "En Python existen 3 clases básicas, muy utilizadas:\n",
        "\n",
        "- Lista\n",
        "- Tupla\n",
        "- Diccionario\n",
        "\n",
        "Durante el proceso de análisis de datos y construcción de modelos, frecuentemente se utilizan en conjunto, mezclando sus propiedades para generar funciones flexibles que permitan procesar cualquier tipo de operación."
      ]
    },
    {
      "cell_type": "markdown",
      "metadata": {
        "id": "qUan7teZM-e5"
      },
      "source": [
        "**Lista**: útil para almacenar múltiples objetos, de cualquier clase. Suele utilizarse como acumulador de información. Es posible acceder a los elementos dentro de una lista, utilizando un operador *subset*."
      ]
    },
    {
      "cell_type": "code",
      "metadata": {
        "id": "ZYagRGXKGcVn",
        "colab": {
          "base_uri": "https://localhost:8080/"
        },
        "outputId": "30f85810-0c41-4a3a-d10f-2c49d7e90c16"
      },
      "source": [
        "# Es posible crear una lista con corchetes ('[]')\n",
        "x = [1,2,3,4,5] # solo números\n",
        "y = ['a','b','c',\"12345\"] # solo texto\n",
        "z = [1,'a',2,'b'] # mixta\n",
        "\n",
        "print(x)\n",
        "print(y)\n",
        "print(z)\n",
        "\n",
        "type(x)"
      ],
      "execution_count": null,
      "outputs": [
        {
          "output_type": "stream",
          "name": "stdout",
          "text": [
            "[1, 2, 3, 4, 5]\n",
            "['a', 'b', 'c', '12345']\n",
            "[1, 'a', 2, 'b']\n"
          ]
        },
        {
          "output_type": "execute_result",
          "data": {
            "text/plain": [
              "list"
            ]
          },
          "metadata": {},
          "execution_count": 27
        }
      ]
    },
    {
      "cell_type": "code",
      "metadata": {
        "id": "vD704FlrXCXX",
        "colab": {
          "base_uri": "https://localhost:8080/"
        },
        "outputId": "ef3b7d8c-0366-47e9-e10a-170fbefc28d1"
      },
      "source": [
        "# Con el método 'append', agregamos datos a una lista ya existente:\n",
        "x = [1,2,3]\n",
        "x.append (15)\n",
        "x.append (10)\n",
        "x.append('agregado_10')\n",
        "x.append('agregado_2')\n",
        "x.append(4)\n",
        "print(x)\n",
        "print(x[-1])"
      ],
      "execution_count": null,
      "outputs": [
        {
          "output_type": "stream",
          "name": "stdout",
          "text": [
            "[1, 2, 3, 15, 10, 'agregado_10', 'agregado_2', 4]\n",
            "4\n"
          ]
        }
      ]
    },
    {
      "cell_type": "markdown",
      "metadata": {
        "id": "YJXmjRPmWZf1"
      },
      "source": [
        "Frecuentemente es necesario realizar consultas a los elementos que se encuentran dentro de un contenedor de datos (como la lista). Para ello, podemos utilizar el operador *subset* y los índices de las posiciones de los items que se desea extraer. En Python, esta indexación inicia en **0**, si se desea extraer elementos de izquierda a derecha, y en **-1**, si se desea extraer elementos de derecha a izquierda:\n",
        "![texto alternativo](https://qph.fs.quoracdn.net/main-qimg-a380b1bc159589df5e0b9842e5b56b6d)"
      ]
    },
    {
      "cell_type": "code",
      "metadata": {
        "id": "AAK_N2NDX3vg",
        "colab": {
          "base_uri": "https://localhost:8080/"
        },
        "outputId": "d23607bb-8459-4801-ebed-757445152c7b"
      },
      "source": [
        "x = [11,12,13]\n",
        "\n",
        "x.append(14)\n",
        "x.append(15)\n",
        "print (x)\n",
        "\n",
        "#print(x) # original\n",
        "\n",
        "# El operador 'subset' consiste en utilizar corchetes ('[]') luego de la variable, indicando la posición del item\n",
        "# que se desea extraer.\n",
        "\n",
        "# La numeración de posiciones en Python inicia en CERO, de tal forma que el primer elemento es 0, el segundo es 1,\n",
        "# el tercero es 2, y así sucesivamente...\n",
        "print( x[0] ) # primero\n",
        "print( x[1] ) # segundo\n",
        "print( x[2] ) # tercero\n",
        "print( x[-3] ) # cuarto\n",
        "print( x[-1] ) # quinto"
      ],
      "execution_count": null,
      "outputs": [
        {
          "output_type": "stream",
          "name": "stdout",
          "text": [
            "[11, 12, 13, 14, 15]\n",
            "11\n",
            "12\n",
            "13\n",
            "13\n",
            "15\n"
          ]
        }
      ]
    },
    {
      "cell_type": "code",
      "metadata": {
        "id": "uEa60WPiYpwf",
        "colab": {
          "base_uri": "https://localhost:8080/"
        },
        "outputId": "d2588cd1-4cb2-42ac-bd6b-5b073d0958c4"
      },
      "source": [
        "#print(x)\n",
        "#print(type(x))\n",
        "\n",
        "# También podemos separar varios elementos:\n",
        "print( x[0:1] ) # solo el primero\n",
        "print( x[1:] ) # el primero y el segundo\n",
        "print( x[0:3] ) # el primero hasta el tercero\n",
        "print( x[0:4] ) # el primero hasta el cuarto\n",
        "print( x[0:5] ) # el primero hasta el quinto\n",
        "\n",
        "print( x[-1] ) # el último\n",
        "print( x[-2:] ) # el penúltimo y el último"
      ],
      "execution_count": null,
      "outputs": [
        {
          "output_type": "stream",
          "name": "stdout",
          "text": [
            "[11]\n",
            "[12, 13, 14, 15]\n",
            "[11, 12, 13]\n",
            "[11, 12, 13, 14]\n",
            "[11, 12, 13, 14, 15]\n",
            "15\n",
            "[14, 15]\n"
          ]
        }
      ]
    },
    {
      "cell_type": "markdown",
      "metadata": {
        "id": "1k7zDVzaZRau"
      },
      "source": [
        "En la siguiente imagen se presenta un resumen de la lógica del operador *subset*.\n",
        "\n",
        "![texto alternativo](https://static.javatpoint.com/python/images/strings-indexing-and-splitting2.png)"
      ]
    },
    {
      "cell_type": "code",
      "source": [
        "x=\"hello\"\n",
        "print(x)"
      ],
      "metadata": {
        "colab": {
          "base_uri": "https://localhost:8080/"
        },
        "id": "T5ijJWYAtZkl",
        "outputId": "63bc45a6-6ecc-46b4-d66e-708898fa5f48"
      },
      "execution_count": null,
      "outputs": [
        {
          "output_type": "stream",
          "name": "stdout",
          "text": [
            "hello\n"
          ]
        }
      ]
    },
    {
      "cell_type": "code",
      "source": [
        "y = x.split()\n",
        "print(y)\n",
        "print(y[3])"
      ],
      "metadata": {
        "colab": {
          "base_uri": "https://localhost:8080/",
          "height": 222
        },
        "id": "jXbSaqtVtdiu",
        "outputId": "b90b99a3-19ae-4eb3-af09-42c46e4939c1"
      },
      "execution_count": null,
      "outputs": [
        {
          "output_type": "stream",
          "name": "stdout",
          "text": [
            "['hello']\n"
          ]
        },
        {
          "output_type": "error",
          "ename": "IndexError",
          "evalue": "ignored",
          "traceback": [
            "\u001b[0;31m---------------------------------------------------------------------------\u001b[0m",
            "\u001b[0;31mIndexError\u001b[0m                                Traceback (most recent call last)",
            "\u001b[0;32m<ipython-input-49-28df3fb6e009>\u001b[0m in \u001b[0;36m<module>\u001b[0;34m\u001b[0m\n\u001b[1;32m      1\u001b[0m \u001b[0my\u001b[0m \u001b[0;34m=\u001b[0m \u001b[0mx\u001b[0m\u001b[0;34m.\u001b[0m\u001b[0msplit\u001b[0m\u001b[0;34m(\u001b[0m\u001b[0;34m)\u001b[0m\u001b[0;34m\u001b[0m\u001b[0;34m\u001b[0m\u001b[0m\n\u001b[1;32m      2\u001b[0m \u001b[0mprint\u001b[0m\u001b[0;34m(\u001b[0m\u001b[0my\u001b[0m\u001b[0;34m)\u001b[0m\u001b[0;34m\u001b[0m\u001b[0;34m\u001b[0m\u001b[0m\n\u001b[0;32m----> 3\u001b[0;31m \u001b[0mprint\u001b[0m\u001b[0;34m(\u001b[0m\u001b[0my\u001b[0m\u001b[0;34m[\u001b[0m\u001b[0;36m3\u001b[0m\u001b[0;34m]\u001b[0m\u001b[0;34m)\u001b[0m\u001b[0;34m\u001b[0m\u001b[0;34m\u001b[0m\u001b[0m\n\u001b[0m",
            "\u001b[0;31mIndexError\u001b[0m: list index out of range"
          ]
        }
      ]
    },
    {
      "cell_type": "markdown",
      "metadata": {
        "id": "qKs_GTQpXftv"
      },
      "source": [
        "**Tupla**: similares a las listas, pero no se pueden modificar (son **inmutables**). Suelen usarse para mostar resultados. Ejemplo: previamente se observó que con el método `append` es posible agregar más elementos a una lista, pero las tuplas no tienen una propiedad que permita agregar más elementos."
      ]
    },
    {
      "cell_type": "code",
      "metadata": {
        "id": "fp3PVI23Lt0l",
        "colab": {
          "base_uri": "https://localhost:8080/"
        },
        "outputId": "877e259c-f22b-4a1e-e45b-af008eb8f333"
      },
      "source": [
        "# Creamos listas con paréntesis ('()'). Podemos identificar si un objeto es tipo tupla\n",
        "# si al imprimir su contenido observamos paréntesis\n",
        "x = (1,2,3,4,5)\n",
        "print(x) # se imprime con paréntesis\n",
        "print(type(x))"
      ],
      "execution_count": null,
      "outputs": [
        {
          "output_type": "stream",
          "name": "stdout",
          "text": [
            "(1, 2, 3, 4, 5)\n",
            "<class 'tuple'>\n"
          ]
        }
      ]
    },
    {
      "cell_type": "code",
      "metadata": {
        "id": "-j3G9s1danWU",
        "colab": {
          "base_uri": "https://localhost:8080/"
        },
        "outputId": "ce9f9678-e209-445b-b0d3-3d35a099d191"
      },
      "source": [
        "# También es posible separar el contenido de las tuplas:\n",
        "x = (1,2,3,4,5)\n",
        "\n",
        "print(x[0])\n",
        "\n",
        "print(x[0:4]) # nótese que si separamos varios items, el resultado es otra tupla\n",
        "\n",
        "print(x[-2])"
      ],
      "execution_count": null,
      "outputs": [
        {
          "output_type": "stream",
          "name": "stdout",
          "text": [
            "1\n",
            "(1, 2, 3, 4)\n",
            "4\n"
          ]
        }
      ]
    },
    {
      "cell_type": "markdown",
      "metadata": {
        "id": "wqCdXnt-XjmX"
      },
      "source": [
        "**Diccionario**: similares a las listas, pero asignan un nombre a cada item dentro del diccionario. Esto otorga la facilidad de acceder rápidamente a la información dentro de ella, mediante el nombre otorgado a cada elemento almacenado.\n",
        "\n",
        "A modo de ejemplo, si se desea almacenar fechas de nacimiento de personas, es preferible utilizar un diccionario pues se podrá asociar una fecha a cada nombre:\n",
        "\n",
        "```` python\n",
        "nacimiento_contactos = {\n",
        "  \"Nombre_contacto_1\": \"1976-03-01\",\n",
        "  \"Nombre_contacto_2\": \"2003-01-22\"\n",
        "}\n",
        "````"
      ]
    },
    {
      "cell_type": "code",
      "metadata": {
        "id": "qN82ZfdPLyuI",
        "colab": {
          "base_uri": "https://localhost:8080/"
        },
        "outputId": "3bdde807-4fe7-45a9-fec8-4ea687c40729"
      },
      "source": [
        "# Creamos un diccionario utilizando llaves ('{}'). Es posible almacenar cualquier estructura de datos como\n",
        "# elemento dentro de un diccionario. En este ejemplo, almacenamos números y texto\n",
        "z = {'indicador_1': 20, 'indicador_2': 13, 'indicador_3': 40}\n",
        "print(z)\n",
        "type(z)"
      ],
      "execution_count": null,
      "outputs": [
        {
          "output_type": "stream",
          "name": "stdout",
          "text": [
            "{'indicador_1': 20, 'indicador_2': 13, 'indicador_3': 40}\n"
          ]
        },
        {
          "output_type": "execute_result",
          "data": {
            "text/plain": [
              "dict"
            ]
          },
          "metadata": {},
          "execution_count": 51
        }
      ]
    },
    {
      "cell_type": "code",
      "metadata": {
        "id": "slCjRGZQboqG",
        "colab": {
          "base_uri": "https://localhost:8080/"
        },
        "outputId": "01a4f2d8-45f1-4717-b487-e755e2c6eee1"
      },
      "source": [
        "# La forma de separar items es diferente. Utilizamos los nombres de los items:\n",
        "print( z['indicador_1'] )\n",
        "print( z['indicador_2'] )\n",
        "print( z['indicador_3'] )\n",
        "\n",
        "# No es posible separar varios a la vez, de esta forma:\n",
        "#print( x['indicador_1','indicador_2'] ) # aparecerá un mensaje de error"
      ],
      "execution_count": null,
      "outputs": [
        {
          "output_type": "stream",
          "name": "stdout",
          "text": [
            "20\n",
            "13\n",
            "40\n"
          ]
        }
      ]
    },
    {
      "cell_type": "markdown",
      "metadata": {
        "id": "fFdCW-eAcplD"
      },
      "source": [
        "Es normal encontrar mensajes de error en Python cuando realizamos experimentos, ya que cada problema que se desea resolver es diferente y ello obliga a que el analista aprenda a utilizar nuevas herramientas, funciones, algoritmos, etc.\n",
        "\n",
        "En esencia, **hace parte del proceso de aprendizaje** y la práctica es necesaria para explotar las bondades del ecosistema Python.\n",
        "\n",
        "Python contiene herramientas de *debugging*, las cuales facilitan la identificación y ubicación de errores, ayudando a su corrección. Devuelve mensajes con descripciones que ayudan a identificar el tipo de falla, como en el caso anterior:\n",
        "\n",
        "```` python\n",
        "---------------------------------------------------------------------------\n",
        "KeyError                                  Traceback (most recent call last)\n",
        "<ipython-input-67-89cc17a44284> in <module>()\n",
        "      4 \n",
        "      5 # No es posible separar varios a la vez, de esta forma:\n",
        "----> 6 print( x['indicador_1','indicador_2'] ) # saldrá un mensaje de error\n",
        "\n",
        "KeyError: ('indicador_1', 'indicador_2')\n",
        "````\n",
        "Este error menciona que se intenta buscar **un solo item cuyo nombre es ('indicador_1','indicador_2'), el cual no existe**.\n",
        "\n",
        "Una gran fortaleza de las herramientas de código libre como Python, es que cuentan con una comunidad de programadores que, al ser usuarios, comparten problemas para su solución en conjunto con otros programadores. \n",
        "\n",
        "> Si usted tiene algún problema, es muy probable que otra persona haya tenido un problema similar anteriormente y lo haya resuelto. Asimismo, es muy probable que esa solución se encuentre alojada en algún **foro**\n",
        "\n",
        "StackOverflow es una página que ofrece un espacio de preguntas y respuestas, en canales a donde acuden personas interesadas en estadística, programación, matemática, historia, ciencia de datos, etc. Es la opción preferida para encontrar soluciones con código.\n",
        "\n",
        "![texto alternativo](https://www.stackoverflowbusiness.com/hubfs/B2B-SO/images/logo-so-PRINT-4.png)\n",
        "\n",
        "Como la mayoría de soluciones se encuentra en inglés, realizar la siguiente búsqueda:\n",
        "\n",
        "1. Buscar \"how to subset more than one item in a python dict\" en Google\n",
        "1. Hacer clic en el primer link de StackOverflow\n",
        "1. Leer y utilizar la solución aceptada como correcta (con un check verde)"
      ]
    },
    {
      "cell_type": "code",
      "metadata": {
        "id": "376Fw0VVd8ws",
        "colab": {
          "base_uri": "https://localhost:8080/",
          "height": 369
        },
        "outputId": "df367fa6-a7ab-4203-a9e7-453be279f149"
      },
      "source": [
        "# Solución:\n",
        "print(x) # original\n",
        "\n",
        "dict((i, x[i]) for i in ['indicador_1', 'indicador_2'] if i in x.keys()) # x.keys() permite acceder a todos los nombres de\n",
        "                                                                         # los items en la variable 'x'"
      ],
      "execution_count": null,
      "outputs": [
        {
          "output_type": "stream",
          "text": [
            "[1, 2, 3, 4, 'agregado_6']\n"
          ],
          "name": "stdout"
        },
        {
          "output_type": "error",
          "ename": "AttributeError",
          "evalue": "ignored",
          "traceback": [
            "\u001b[0;31m---------------------------------------------------------------------------\u001b[0m",
            "\u001b[0;31mAttributeError\u001b[0m                            Traceback (most recent call last)",
            "\u001b[0;32m<ipython-input-32-b50727cf10eb>\u001b[0m in \u001b[0;36m<module>\u001b[0;34m()\u001b[0m\n\u001b[1;32m      2\u001b[0m \u001b[0mprint\u001b[0m\u001b[0;34m(\u001b[0m\u001b[0mx\u001b[0m\u001b[0;34m)\u001b[0m \u001b[0;31m# original\u001b[0m\u001b[0;34m\u001b[0m\u001b[0;34m\u001b[0m\u001b[0m\n\u001b[1;32m      3\u001b[0m \u001b[0;34m\u001b[0m\u001b[0m\n\u001b[0;32m----> 4\u001b[0;31m \u001b[0mdict\u001b[0m\u001b[0;34m(\u001b[0m\u001b[0;34m(\u001b[0m\u001b[0mi\u001b[0m\u001b[0;34m,\u001b[0m \u001b[0mx\u001b[0m\u001b[0;34m[\u001b[0m\u001b[0mi\u001b[0m\u001b[0;34m]\u001b[0m\u001b[0;34m)\u001b[0m \u001b[0;32mfor\u001b[0m \u001b[0mi\u001b[0m \u001b[0;32min\u001b[0m \u001b[0;34m[\u001b[0m\u001b[0;34m'indicador_1'\u001b[0m\u001b[0;34m,\u001b[0m \u001b[0;34m'indicador_2'\u001b[0m\u001b[0;34m]\u001b[0m \u001b[0;32mif\u001b[0m \u001b[0mi\u001b[0m \u001b[0;32min\u001b[0m \u001b[0mx\u001b[0m\u001b[0;34m.\u001b[0m\u001b[0mkeys\u001b[0m\u001b[0;34m(\u001b[0m\u001b[0;34m)\u001b[0m\u001b[0;34m)\u001b[0m \u001b[0;31m# x.keys() permite acceder a todos los nombres de\u001b[0m\u001b[0;34m\u001b[0m\u001b[0;34m\u001b[0m\u001b[0m\n\u001b[0m\u001b[1;32m      5\u001b[0m                                                                          \u001b[0;31m# los items en la variable 'x'\u001b[0m\u001b[0;34m\u001b[0m\u001b[0;34m\u001b[0m\u001b[0;34m\u001b[0m\u001b[0m\n",
            "\u001b[0;32m<ipython-input-32-b50727cf10eb>\u001b[0m in \u001b[0;36m<genexpr>\u001b[0;34m(.0)\u001b[0m\n\u001b[1;32m      2\u001b[0m \u001b[0mprint\u001b[0m\u001b[0;34m(\u001b[0m\u001b[0mx\u001b[0m\u001b[0;34m)\u001b[0m \u001b[0;31m# original\u001b[0m\u001b[0;34m\u001b[0m\u001b[0;34m\u001b[0m\u001b[0m\n\u001b[1;32m      3\u001b[0m \u001b[0;34m\u001b[0m\u001b[0m\n\u001b[0;32m----> 4\u001b[0;31m \u001b[0mdict\u001b[0m\u001b[0;34m(\u001b[0m\u001b[0;34m(\u001b[0m\u001b[0mi\u001b[0m\u001b[0;34m,\u001b[0m \u001b[0mx\u001b[0m\u001b[0;34m[\u001b[0m\u001b[0mi\u001b[0m\u001b[0;34m]\u001b[0m\u001b[0;34m)\u001b[0m \u001b[0;32mfor\u001b[0m \u001b[0mi\u001b[0m \u001b[0;32min\u001b[0m \u001b[0;34m[\u001b[0m\u001b[0;34m'indicador_1'\u001b[0m\u001b[0;34m,\u001b[0m \u001b[0;34m'indicador_2'\u001b[0m\u001b[0;34m]\u001b[0m \u001b[0;32mif\u001b[0m \u001b[0mi\u001b[0m \u001b[0;32min\u001b[0m \u001b[0mx\u001b[0m\u001b[0;34m.\u001b[0m\u001b[0mkeys\u001b[0m\u001b[0;34m(\u001b[0m\u001b[0;34m)\u001b[0m\u001b[0;34m)\u001b[0m \u001b[0;31m# x.keys() permite acceder a todos los nombres de\u001b[0m\u001b[0;34m\u001b[0m\u001b[0;34m\u001b[0m\u001b[0m\n\u001b[0m\u001b[1;32m      5\u001b[0m                                                                          \u001b[0;31m# los items en la variable 'x'\u001b[0m\u001b[0;34m\u001b[0m\u001b[0;34m\u001b[0m\u001b[0;34m\u001b[0m\u001b[0m\n",
            "\u001b[0;31mAttributeError\u001b[0m: 'list' object has no attribute 'keys'"
          ]
        }
      ]
    },
    {
      "cell_type": "markdown",
      "metadata": {
        "id": "8xXwxP1TeRmF"
      },
      "source": [
        "Como se observó en la celda anterior, la solución no es intuitiva y requiere un conocimiento más profundo (y experiencia) por parte del analista, a pesar que se está realizando una acción sencilla. Con la finalidad de eliminar los inconvenientes por el exceso de código necesario para realizar acciones frecuentes, se crearon las **librerías**.\n",
        "\n",
        "El éxito de Python como herramienta preferida en ambientes donde se trabaja con *machine learning* se debe, en gran parte, a la variedad en la oferta de librerías disponibles."
      ]
    },
    {
      "cell_type": "markdown",
      "metadata": {
        "id": "A06JNn1Irv9h"
      },
      "source": [
        "# Librerías de análisis de datos\n",
        "Python contiene **librerías**, los cuales son paquetes de *software* que extienden las capacidades del lenguaje de programación. Existe una familia de librerías dedicadas exclusivamente al análisis de datos y computación científica. Las principales que se utilizarán son:\n",
        "\n",
        "- Numpy: Permite trabajar con **matrices** y operaciones matemáticas comunes\n",
        "- Pandas: Permite trabajar con **tablas de datos** a través de una estructura llamada DataFrame\n",
        "- Matplotlib: Contiene funciones **gráficas básicas**\n",
        "- Seaborn: Contiene **gráficas descriptivas comunes** como diagrama de dispersión, diagrama de cajas, etc.\n",
        "- Statsmodels: Proporciona funciones y **modelos estadísticos** comunes\n",
        "- Scikit-learn: Recopila los principales algoritmos de **machine learning**\n",
        "- Tensorflow: Creado por Google, ofrece funciones que permiten crear modelos muy flexibles de **Redes Neuronales**\n",
        "\n",
        "La plataforma de Google Colab ya tiene estas librerías instaladas y actualizadas.\n",
        "\n",
        "![texto alternativo](http://res.cloudinary.com/dyd911kmh/image/upload/f_auto,q_auto:best/v1509622333/scipy-eco_kqi2su.png)"
      ]
    },
    {
      "cell_type": "markdown",
      "metadata": {
        "id": "PZVj2HqM8Woh"
      },
      "source": [
        "Para utilizar una librería es necesario realizar 2 acciones:\n",
        "\n",
        "1. Descargarla de algún repositorio (como el repositorio ``pip``)\n",
        "````python \n",
        "!pip install nombre_de_libreria\n",
        "````\n",
        "2. Importarla a la sesión que se está trabajando actualmente \n",
        "````python \n",
        "import nombre_de_libreria\n",
        "````\n",
        "\n",
        "Sólo es necesario realizar el primer paso cuando se están instalando librerías por primera vez, o se desea actualizar una librería a su versión más reciente. En Google Colab se encuentran las últimas versiones de las principales librerías, por lo que rara vez necesitará realizar este paso.\n",
        "\n",
        "El segundo paso debe realizarse **una vez en cada sesión** (se inicia una sesión nueva cuando se abre el *jupyter notebook* que se desea trabajar y se conecta a una instancia de Google Cloud). A continuación, se mostrará un ejemplo."
      ]
    },
    {
      "cell_type": "code",
      "metadata": {
        "id": "ihy7wY0UjQBU"
      },
      "source": [],
      "execution_count": null,
      "outputs": []
    },
    {
      "cell_type": "code",
      "metadata": {
        "id": "GsTSBhOPx6B7"
      },
      "source": [
        "# Supongamos que deseamos utilizar una librería llamada 'bayes_opt'. Primero verificamos si tenemos\n",
        "# instalada la librería:\n",
        "import  bayes_opt  # aplicamos el segundo paso!"
      ],
      "execution_count": null,
      "outputs": []
    },
    {
      "cell_type": "markdown",
      "metadata": {
        "id": "QesBBl4j_t_f"
      },
      "source": [
        "Apareció un mensaje de error del tipo ``ModuleNotFoundError``. Nos indica que esa librería no se encuentra instalada actualmente.\n",
        "\n",
        "````python\n",
        "---------------------------------------------------------------------------\n",
        "ModuleNotFoundError                       Traceback (most recent call last)\n",
        "<ipython-input-3-5e372dab671e> in <module>()\n",
        "----> 1 import bayes_opt   # aplicamos el segundo paso!\n",
        "\n",
        "ModuleNotFoundError: No module named 'bayes_opt'\n",
        "\n",
        "---------------------------------------------------------------------------\n",
        "NOTE: If your import is failing due to a missing package, you can\n",
        "manually install dependencies using either !pip or !apt.\n",
        "\n",
        "To view examples of installing some common dependencies, click the\n",
        "\"Open Examples\" button below.\n",
        "---------------------------------------------------------------------------\n",
        "````\n",
        "\n",
        "Por lo tanto, procederemos a instalarlo, aplicando el paso 1."
      ]
    },
    {
      "cell_type": "code",
      "metadata": {
        "id": "OQG49e0s_n-a",
        "colab": {
          "base_uri": "https://localhost:8080/"
        },
        "outputId": "2071566a-75fd-4965-9829-8b107169f7e6"
      },
      "source": [
        "# Instalando la librería bayes_opt:\n",
        "!pip install bayesian-optimization\n",
        "\n",
        "# Instaló con éxito!\n",
        "\n",
        "# Nótese que utilizamos otro nombre para la librería (no 'bayes_opt'). Algunas librerías se instalan con nombres\n",
        "# diferentes a aquellos con los que se importan. Esto es normal y es posible verificar la manera correcta de\n",
        "# instalación al realizar una búsqueda sencilla en Google: \"how to install bayes_opt\""
      ],
      "execution_count": null,
      "outputs": [
        {
          "output_type": "stream",
          "name": "stdout",
          "text": [
            "Looking in indexes: https://pypi.org/simple, https://us-python.pkg.dev/colab-wheels/public/simple/\n",
            "Collecting bayesian-optimization\n",
            "  Downloading bayesian_optimization-1.4.2-py3-none-any.whl (17 kB)\n",
            "Requirement already satisfied: scikit-learn>=0.18.0 in /usr/local/lib/python3.9/dist-packages (from bayesian-optimization) (1.2.2)\n",
            "Collecting colorama>=0.4.6\n",
            "  Downloading colorama-0.4.6-py2.py3-none-any.whl (25 kB)\n",
            "Requirement already satisfied: numpy>=1.9.0 in /usr/local/lib/python3.9/dist-packages (from bayesian-optimization) (1.22.4)\n",
            "Requirement already satisfied: scipy>=1.0.0 in /usr/local/lib/python3.9/dist-packages (from bayesian-optimization) (1.10.1)\n",
            "Requirement already satisfied: threadpoolctl>=2.0.0 in /usr/local/lib/python3.9/dist-packages (from scikit-learn>=0.18.0->bayesian-optimization) (3.1.0)\n",
            "Requirement already satisfied: joblib>=1.1.1 in /usr/local/lib/python3.9/dist-packages (from scikit-learn>=0.18.0->bayesian-optimization) (1.1.1)\n",
            "Installing collected packages: colorama, bayesian-optimization\n",
            "Successfully installed bayesian-optimization-1.4.2 colorama-0.4.6\n"
          ]
        }
      ]
    },
    {
      "cell_type": "markdown",
      "metadata": {
        "id": "-SARHUaECBCZ"
      },
      "source": [
        "Si quisieramos conocer la forma correcta de instalar `bayes_opt`, realizamos lo siguiente:\n",
        "\n",
        "1. Realizamos la búsqueda en Google: `how to install bayes_opt`\n",
        "2. Ingresamos a su página de GitHub\n",
        "3. Ubicamos la sección **Installation**"
      ]
    },
    {
      "cell_type": "code",
      "metadata": {
        "id": "_HCSt1X5x6HF"
      },
      "source": [
        "# Ahora es posible importar la librería:\n",
        "import bayes_opt # ya no aparecen errores"
      ],
      "execution_count": null,
      "outputs": []
    },
    {
      "cell_type": "markdown",
      "metadata": {
        "id": "ldjXdtl4DELH"
      },
      "source": [
        "Una librería de Python es un módulo y contiene otros submódulos y funciones. Los módulos son carpetas donde se encuentran funciones, estructuras de datos y objetos que sirven a un propósito definido, haciendo sinergia.\n",
        "\n",
        "![texto alternativo](https://www.oreilly.com/library/view/head-first-python/9781491919521/figs/web/146fig01.png.jpg)\n",
        "\n",
        "Para utilizar los módulos, clases y funciones de las librerías importadas, se debe acceder a estos invocando el **nombre con el que se importó**. Ejemplo:"
      ]
    },
    {
      "cell_type": "code",
      "metadata": {
        "id": "EmZUJm6Rx6K6"
      },
      "source": [
        "# Importamos una librería llamada 'numpy'\n",
        "import numpy as np\n",
        "\n",
        "# Nótese que agregamos una palabra clave ('as'). Esta palabra clave permite asignar un nombre personalizado (alias)\n",
        "# para utilizar la libreria que se carga. En este caso, basta utilizar 'np' para invocar el contenido\n",
        "# de la librería posteriormente. Esto ayuda cuando se cargan librerías con nombres muy largos"
      ],
      "execution_count": null,
      "outputs": []
    },
    {
      "cell_type": "code",
      "metadata": {
        "id": "jfGKtWH3Esc2",
        "colab": {
          "base_uri": "https://localhost:8080/",
          "height": 34
        },
        "outputId": "66b52845-a653-4688-e433-8fb155498e78"
      },
      "source": [
        "# Como ejemplo, utilizaremos numpy para generar dígitos aleatorios.\n",
        "# Para ello invocar el nombre 'np', acceder al módulo 'random' y llamar la función 'randint':\n",
        "np.random.randint(low=0, high=9)"
      ],
      "execution_count": null,
      "outputs": [
        {
          "output_type": "execute_result",
          "data": {
            "text/plain": [
              "8"
            ]
          },
          "metadata": {
            "tags": []
          },
          "execution_count": 39
        }
      ]
    },
    {
      "cell_type": "markdown",
      "metadata": {
        "id": "l2oNIv8dIAJ3"
      },
      "source": [
        "Nótese que declaramos los argumentos 'low' y 'high' con los valores 0 y 9, respectivamente. Estos permiten configurar el comportamiento de la función. Las funciones tienen 2 tipos de argumentos:\n",
        "\n",
        "1. Argumentos por defecto (pueden ser modificados, pero no es necesario)\n",
        "2. Argumentos que deben configurarse manualmente\n",
        "\n",
        "Es posible reconocer qué tipo de argumentos tiene una determinada función al revisar su documentación."
      ]
    },
    {
      "cell_type": "code",
      "metadata": {
        "id": "qXIIj7ITSxFv"
      },
      "source": [
        "# Revisamos la documentación de la función anterior:\n",
        "?np.random.randint"
      ],
      "execution_count": null,
      "outputs": []
    },
    {
      "cell_type": "markdown",
      "metadata": {
        "id": "SXSHWD1cTTxg"
      },
      "source": [
        "Las librerías más populares de Python tienen siempre una documentación ordenada que detalla el propósito de cada función o módulo, los elementos de las funciones, y ejemplos de casos de uso. Observando la documentación abajo, identificamos lo siguiente:\n",
        "\n",
        "1. Los argumentos que se presentan solos (como 'low'), son argumentos que se especifican manualmente.\n",
        "2. Los argumentos que tienen alguna asignación (como 'high', 'size' y 'dtype'), ya tienen valores pre especificados y es opcional modificarlos.\n",
        "\n",
        "``` python\n",
        "Docstring:\n",
        "randint(low, high=None, size=None, dtype='l')\n",
        "\n",
        "Return random integers from `low` (inclusive) to `high` (exclusive).\n",
        "\n",
        "Return random integers from the \"discrete uniform\" distribution of\n",
        "the specified dtype in the \"half-open\" interval [`low`, `high`). If\n",
        "`high` is None (the default), then results are from [0, `low`).\n",
        "\n",
        "Parameters\n",
        "----------\n",
        "low : int\n",
        "    Lowest (signed) integer to be drawn from the distribution (unless\n",
        "    ``high=None``, in which case this parameter is one above the\n",
        "    *highest* such integer).\n",
        "high : int, optional\n",
        "    If provided, one above the largest (signed) integer to be drawn\n",
        "    from the distribution (see above for behavior if ``high=None``).\n",
        "size : int or tuple of ints, optional\n",
        "    Output shape.  If the given shape is, e.g., ``(m, n, k)``, then\n",
        "    ``m * n * k`` samples are drawn.  Default is None, in which case a\n",
        "    single value is returned.\n",
        "dtype : dtype, optional\n",
        "    Desired dtype of the result. All dtypes are determined by their\n",
        "    name, i.e., 'int64', 'int', etc, so byteorder is not available\n",
        "    and a specific precision may have different C types depending\n",
        "    on the platform. The default value is 'np.int'.\n",
        "\n",
        "    .. versionadded:: 1.11.0\n",
        "\n",
        "Returns\n",
        "-------\n",
        "out : int or ndarray of ints\n",
        "    `size`-shaped array of random integers from the appropriate\n",
        "    distribution, or a single such random int if `size` not provided.\n",
        "\n",
        "See Also\n",
        "--------\n",
        "random.random_integers : similar to `randint`, only for the closed\n",
        "    interval [`low`, `high`], and 1 is the lowest value if `high` is\n",
        "    omitted. In particular, this other one is the one to use to generate\n",
        "    uniformly distributed discrete non-integers.\n",
        "\n",
        "Examples\n",
        "--------\n",
        ">>> np.random.randint(2, size=10)\n",
        "array([1, 0, 0, 0, 1, 1, 0, 0, 1, 0])\n",
        ">>> np.random.randint(1, size=10)\n",
        "array([0, 0, 0, 0, 0, 0, 0, 0, 0, 0])\n",
        "\n",
        "Generate a 2 x 4 array of ints between 0 and 4, inclusive:\n",
        "\n",
        ">>> np.random.randint(5, size=(2, 4))\n",
        "array([[4, 0, 2, 1],\n",
        "       [3, 2, 2, 0]])\n",
        "Type:      builtin_function_or_method\n",
        "```"
      ]
    },
    {
      "cell_type": "markdown",
      "metadata": {
        "id": "oLxXcAtpUf9Q"
      },
      "source": [
        "## Numpy\n",
        "\n",
        "Numpy es una librería orientada a computación científica. Contiene funciones y tipos de datos que permiten realizar cálculos básicos y complejos. Sus componentes hacen sinergia y son utilizados por todas las librerías más avanzadas de análisis de datos.\n",
        "\n",
        "La estructura de datos llamada **array** (o matriz, en español) es muy importante pues permite trabajar con matrices."
      ]
    },
    {
      "cell_type": "code",
      "metadata": {
        "id": "dKwU3QBLUe3r"
      },
      "source": [
        "# Creación de una matriz usando Numpy:\n",
        "x = np.array([1,2,3,4,5,6])\n",
        "print(x) # contenido de 'x'\n",
        "print(type(x)) # es un ndarray"
      ],
      "execution_count": null,
      "outputs": []
    },
    {
      "cell_type": "code",
      "metadata": {
        "id": "rGjzsVfDayoO"
      },
      "source": [
        "# Podemos verificar las dimensiones utilizando el método 'shape':\n",
        "x.shape # tiene 6 elementos almacenados de manera sencilla. Esto se connoce como VECTOR"
      ],
      "execution_count": null,
      "outputs": []
    },
    {
      "cell_type": "code",
      "metadata": {
        "id": "19_8tf8hNRrx"
      },
      "source": [
        "# Podemos modificar la forma de la matriz:\n",
        "x = x.reshape(2,3) # ahora tendrá 2 filas y 3 columnas\n",
        "print(x)"
      ],
      "execution_count": null,
      "outputs": []
    },
    {
      "cell_type": "code",
      "metadata": {
        "id": "MiQrYgCeantZ"
      },
      "source": [
        "# Podemos verificar las dimensiones de las matrices utilizando el método 'shape':\n",
        "x.shape # ahora es una matriz de 2x3"
      ],
      "execution_count": null,
      "outputs": []
    },
    {
      "cell_type": "markdown",
      "metadata": {
        "id": "FdNQZB_NcZa0"
      },
      "source": [
        "Una gran ventaja de las matrices, es la posibilidad de realizar operaciones matemáticas con total flexibilidad. Es complicado realizar sumas y multiplicaciones que involucren múltiples elementos de diferentes listas de Python, pero el proceso es trivial cuando se utiliza una matriz de Numpy."
      ]
    },
    {
      "cell_type": "code",
      "metadata": {
        "id": "t5NYRL1pawNs"
      },
      "source": [
        "# No es sencillo realizar una suma que se propague por todos los elementos de un\n",
        "# objeto del tipo lista en Python\n",
        "x = [1,2,3,4,5]\n",
        "constante = 100\n",
        "\n",
        "x + constante # aparecerá un error"
      ],
      "execution_count": null,
      "outputs": []
    },
    {
      "cell_type": "code",
      "metadata": {
        "id": "e8VrlVzcdVQQ"
      },
      "source": [
        "x = [1,2,3,4,5]\n",
        "constante = 100\n",
        "\n",
        "# La solución no es intuitiva:\n",
        "list(map(lambda i: i + constante, x))"
      ],
      "execution_count": null,
      "outputs": []
    },
    {
      "cell_type": "code",
      "metadata": {
        "id": "mFxGwILAdluF"
      },
      "source": [
        "# Usando Numpy, todo es sencillo\n",
        "x = np.array([1,2,3,4,5])\n",
        "constante = 100\n",
        "\n",
        "x + constante # la suma se realiza en cada elemento de 'x'"
      ],
      "execution_count": null,
      "outputs": []
    },
    {
      "cell_type": "code",
      "metadata": {
        "id": "eYtRaQikdwc9"
      },
      "source": [
        "# La siguiente suma también se vuelve trivial:\n",
        "x = np.array([1,2,3,4,5])\n",
        "y = np.array([-5,-4,-3,-2,-1])\n",
        "\n",
        "x + y"
      ],
      "execution_count": null,
      "outputs": []
    },
    {
      "cell_type": "code",
      "metadata": {
        "id": "UTScbG8cdsJA"
      },
      "source": [
        "# Una multiplicación y una división:\n",
        "x = np.array([1,2,3,4,5])\n",
        "y = np.array([-5,-4,-3,-2,-1])\n",
        "\n",
        "print(x * y)\n",
        "print(x / y)"
      ],
      "execution_count": null,
      "outputs": []
    },
    {
      "cell_type": "code",
      "metadata": {
        "id": "q7tFD_GHemlD"
      },
      "source": [
        "# Además de números, también es posible almacenar texto en una matriz:\n",
        "x = np.array(['a','b','c'])\n",
        "\n",
        "x"
      ],
      "execution_count": null,
      "outputs": []
    },
    {
      "cell_type": "code",
      "metadata": {
        "id": "z6DZrLFigDjx"
      },
      "source": [
        "# Pero una matriz puede almacenar sólo un tipo de dato. Por ejemplo, si intentamos combinar\n",
        "# letras, números y 'bool' en la matriz, convertirá todos los elementos a texto, ya que es posible\n",
        "# almacenar cualquier caracter con este formato. Este proceso se llama \"coerción\".\n",
        "\n",
        "x = np.array(['a','b','c',1,2,3,True,False])\n",
        "\n",
        "# Observamos que todo es texto ya que cada elemento impreso tiene comillas alrededor del caracter:\n",
        "x"
      ],
      "execution_count": null,
      "outputs": []
    },
    {
      "cell_type": "markdown",
      "metadata": {
        "id": "gD5UgUPDvCwt"
      },
      "source": [
        "Las operaciones observadas hasta el momento se conocen como **operaciones vectorizadas**. Estas son operaciones que replican funciones a través de múltiples elementos dentro de un objeto, sin necesidad de utilizar estructuras de control (se verá más adelante). Esto trae beneficios en el tiempo de procesamiento de datos y la memoria necesaria para trabajarlos, lo cual es necesario cuando se cuenta con gran cantidad de datos (en el orden de gigabytes).\n",
        "\n",
        "Una de las grandes ventajas de la vectorización es la posibilidad de aplicar filtros que permitan extraer elementos específicos de los contenedores de datos. Aquí se emplean vectores de datos del tipo `bool` (Verdadero o Falso)."
      ]
    },
    {
      "cell_type": "code",
      "metadata": {
        "id": "6NG_KoPPu8Ut"
      },
      "source": [
        "# Creamos un vector numérico con Numpy:\n",
        "x = np.array([1,2,3,4,5,6,7,8,9,10])\n",
        "print(x) # observamos el elemento original\n",
        "\n",
        "# Creamos una 'máscara'. Este es un elemento que se compone de valores bool (V o F) y tiene dimensiones\n",
        "# idénticas al objeto 'x'. Se llama máscara pues las posiciones que coinciden con los datos 'False' se\n",
        "# ocultan, retornando como resultado sólo las posiciones que coinciden con los datos 'True'.\n",
        "mask = x <= 5 # detectamos las posiciones con elementos menores o iguales a 5\n",
        "print(mask) # observamos el contenido de la máscara\n",
        "\n",
        "# Realizamos la extracción de elementos del objeto 'x':\n",
        "resultado = x[mask]\n",
        "print(resultado)"
      ],
      "execution_count": null,
      "outputs": []
    },
    {
      "cell_type": "markdown",
      "metadata": {
        "id": "uFJAZEqk3xwp"
      },
      "source": [
        "¡La creación de máscaras también funciona con matrices! (ejemplo abajo)"
      ]
    },
    {
      "cell_type": "code",
      "metadata": {
        "id": "_-S9kTyQ2ib0"
      },
      "source": [
        "# Creamos una matriz con valores desde 0 a 89. Como inicialmente se genera un vector,\n",
        "# encadenamos el método 'reshape' para generar una matriz de 3x30. Muchas veces queremos definir\n",
        "# únicamente la cantidad de elementos por fila o por columna, dejando que el resto de las dimensiones\n",
        "# se ajuste automáticamente según el tamaño del objeto original. Logramos esto utilizando\n",
        "# un \"-1\", indicando que queremos que las columnas se ajsuten automáticamente:\n",
        "x = np.arange(90)\n",
        "print(x.shape) # dimensiones originales\n",
        "print(x) # objeto original\n",
        "\n",
        "x = x.reshape(3,-1)\n",
        "print(x.shape) # nuevas dimensiones\n",
        "print(x) # matriz"
      ],
      "execution_count": null,
      "outputs": []
    },
    {
      "cell_type": "code",
      "metadata": {
        "id": "t37Wqinr4MuZ"
      },
      "source": [
        "# Ahora filtramos únicamente los items cuyos valores sean menores a 60:\n",
        "mask = x < 60 # máscara de verdaderos y falsos\n",
        "print(mask) # observamos que los elementos True se extraerán\n",
        "\n",
        "# Filtrando:\n",
        "resultado = x[mask]\n",
        "print(resultado.shape) # las dimensiones del resultado\n",
        "print(resultado) # elementos extraídos"
      ],
      "execution_count": null,
      "outputs": []
    },
    {
      "cell_type": "markdown",
      "metadata": {
        "id": "ZPECdRkG5g-4"
      },
      "source": [
        "Observamos que el resultado del filtro del ejemplo anterior se presenta como un vector de Numpy. Las principales librerías de *machine learning* utilizan la estructura de datos propocionada por Numpy para acelerar el cálculo, replicando las operaciones vista en los ejemplos anteriores."
      ]
    },
    {
      "cell_type": "markdown",
      "metadata": {
        "id": "Aw_bShk3hGPE"
      },
      "source": [
        "## Pandas\n",
        "\n",
        "A pesar se las bondades de Numpy, no es suficiente para lidiar con las bases de datos presentes en casos reales, especialmente dada la naturaleza tabular de estos datos. Previamente se observó que una matriz de Numpy sólo puede almacenar un tipo de dato, y en casos reales se cuenta con variables numéricas, categóricas, fecha, etc.\n",
        "\n",
        "Pandas es una librería que proporciona una estructura de datos muy flexible llamada **DataFrame**. Ello permite almacenar información en forma de tablas, de manera similar a Excel. Contiene una serie de métodos y funciones que permiten realizar cualquier tipo de procesamiento a los datos almacenados de esta forma. Por ello, es la librería fundamental de manipulación de datos en Python. \n",
        "\n",
        "Un **DataFrame** contiene múltiples columnas, y cada una es una estructura de datos llamada **Serie**.\n",
        "![texto alternativo](https://storage.googleapis.com/lds-media/images/series-and-dataframe.width-1200.png)\n",
        "\n",
        "![texto alternativo](https://www.kdnuggets.com/wp-content/uploads/pandas-02.png)"
      ]
    },
    {
      "cell_type": "code",
      "metadata": {
        "id": "3mlOcIJsjiEh"
      },
      "source": [
        "# Debemos importar la librería Pandas:\n",
        "import pandas as pd"
      ],
      "execution_count": null,
      "outputs": []
    },
    {
      "cell_type": "code",
      "metadata": {
        "id": "KXmhQXxLg40E"
      },
      "source": [
        "# Los DataFrames se crean con la función 'pd.DataFrame' y pueden recibir como entradas:\n",
        "# -listas\n",
        "# -diccionarios\n",
        "# -np.array\n",
        "\n",
        "# A partir de 2 listas:\n",
        "x = pd.DataFrame(\n",
        "    [[1,2,3,4,5],\n",
        "     ['a','b','c','d','e']]\n",
        ").T # con '.T', le aplicamos una operación transpuesta\n",
        "\n",
        "# A partir de 1 diccionario que contiene 2 listas:\n",
        "y = pd.DataFrame(\n",
        "    {'columna_numerica': [1,2,3,4,5],\n",
        "     'columna_texto': ['a','b','c','d','e']}\n",
        ")\n",
        "\n",
        "# A partir de 2 np.array:\n",
        "z1 = np.array([1,2,3,4,5])\n",
        "z2 = np.array(['a','b','c','d','e'])\n",
        "z = pd.DataFrame([z1, z2]).T\n",
        "\n",
        "\n",
        "print(x)\n",
        "print(y)\n",
        "print(z)"
      ],
      "execution_count": null,
      "outputs": []
    },
    {
      "cell_type": "markdown",
      "metadata": {
        "id": "LZ1o1FurDCHF"
      },
      "source": [
        "Se utilizará una tabla de datos sencilla para ejemplificar algunos métodos importantes de los DataFrames:"
      ]
    },
    {
      "cell_type": "code",
      "metadata": {
        "id": "iVWUbNkrDS7X"
      },
      "source": [
        "# Tabla sencilla:\n",
        "diccionario = {\"country\": [\"Brazil\", \"Russia\", \"India\", \"China\", \"South Africa\"],\n",
        "       \"capital\": [\"Brasilia\", \"Moscow\", \"New Dehli\", \"Beijing\", \"Pretoria\"],\n",
        "       \"area\": [8.516, 17.10, 3.286, 9.597, 1.221],\n",
        "       \"population\": [200.4, 143.5, 1252, 1357, 52.98] }\n",
        "\n",
        "paises = pd.DataFrame(diccionario)\n",
        "\n",
        "paises # inspeccionamos la tabla"
      ],
      "execution_count": null,
      "outputs": []
    },
    {
      "cell_type": "markdown",
      "metadata": {
        "id": "hPRQ-NJ6Dyyg"
      },
      "source": [
        "### Operaciones comunes con tablas\n",
        "\n",
        "Las **operaciones más comunes en tablas** son:\n",
        "\n",
        "- Separación de columnas específicas\n",
        "- Filtro de filas específicas\n",
        "- Eliminar columnas\n",
        "- Renombrar columnas\n",
        "- Cambiar el tipo de dato de los elementos de la columna\n",
        "- Creación de nuevas columnas mediante operaciones\n",
        "\n",
        "Se debe tener siempre en cuenta que, al trabajar con tablas, se debe especificar a dichas operaciones si se está trabajando sobre el **eje de las filas** (axis=0) o de las **columnas** (axis=1):\n",
        "\n",
        "![texto alternativo](https://fgnt.github.io/python_crashkurs_doc/_images/numpy_array_t.png)"
      ]
    },
    {
      "cell_type": "markdown",
      "metadata": {
        "id": "gBdNLlD5f1mu"
      },
      "source": [
        "### Separación de columnas específicas"
      ]
    },
    {
      "cell_type": "code",
      "metadata": {
        "id": "l2GjHbj0euCu"
      },
      "source": [
        "# Utilizando corchetes ('[]') podemos tomar una columna de una tabla y utilizarla.\n",
        "# Dicha columna seguirá perteneciendo a la tabla, no se separará\n",
        "\n",
        "# Primero verificamos qué columnas hacen parte de la tabla, utilizando el método 'columns':\n",
        "print( paises.columns )"
      ],
      "execution_count": null,
      "outputs": []
    },
    {
      "cell_type": "code",
      "metadata": {
        "id": "eKMMuy5hfmNE"
      },
      "source": [
        "# Aquí utilizamos la columna 'country':\n",
        "paises['country']"
      ],
      "execution_count": null,
      "outputs": []
    },
    {
      "cell_type": "code",
      "metadata": {
        "id": "FmKC-x1AfnTM"
      },
      "source": [
        "# Aquí utilizamos la columna 'capital':\n",
        "paises['capital']"
      ],
      "execution_count": null,
      "outputs": []
    },
    {
      "cell_type": "code",
      "metadata": {
        "id": "AQiwHj7PjhmW"
      },
      "source": [
        "# Aquí se mantiene unicamente las columnas 'country' y 'capital':\n",
        "paises[['country','capital']]"
      ],
      "execution_count": null,
      "outputs": []
    },
    {
      "cell_type": "markdown",
      "metadata": {
        "id": "Hu_A9TiygNZJ"
      },
      "source": [
        "### Filtro de filas específicas"
      ]
    },
    {
      "cell_type": "code",
      "metadata": {
        "id": "LDIOzJ0vfWbr"
      },
      "source": [
        "# Si deseamos obtener los datos de Brazil, utilizamos la siguiente máscara.\n",
        "mask = paises['country'] == 'Brazil'\n",
        "\n",
        "print('Creamos la siguiente máscara:')\n",
        "print(mask) # observamos el contenido de la máscara\n",
        "\n",
        "resultado = paises[mask]\n",
        "print('\\n El resultado del filtro es:')\n",
        "resultado"
      ],
      "execution_count": null,
      "outputs": []
    },
    {
      "cell_type": "code",
      "metadata": {
        "id": "sPl0ipSJhZhn"
      },
      "source": [
        "# También se puede realizar la operación de filtro directamente:\n",
        "paises[paises['country'] == 'Brazil']"
      ],
      "execution_count": null,
      "outputs": []
    },
    {
      "cell_type": "code",
      "metadata": {
        "id": "PNcP9WW9lRuy"
      },
      "source": [
        "# Para eliminar algunas filas, sólo es necesario modificar la lógica de la máscara:\n",
        "# Si se desea mantener a todos los países EXCEPTO Brasil, realizar lo siguiente:\n",
        "paises[paises['country'] != 'Brazil']"
      ],
      "execution_count": null,
      "outputs": []
    },
    {
      "cell_type": "markdown",
      "metadata": {
        "id": "TDKs5695hqjT"
      },
      "source": [
        "### Eliminación de columnas\n",
        "\n",
        "Utilizaremos el método `drop`."
      ]
    },
    {
      "cell_type": "code",
      "metadata": {
        "id": "4EFVdHQrhkEa"
      },
      "source": [
        "# Para no grabar los cambios directamente en la tabla que se está trabajando, se realiza\n",
        "# la siguiente copia:\n",
        "copia_paises = paises.copy()   # el método 'copy' realiza una copia\n",
        "\n",
        "# Nota: Es importante SIEMPRE utilizar \".copy\" para realizar copias pues, de esta manera,\n",
        "# se duplica internamente la tabla original, evitando problemas de referenciación\n",
        "\n",
        "# Ahora se realiza la eliminación de la columna 'capital':\n",
        "copia_paises = copia_paises.drop('capital', axis=1) # con axis = 1, indicamos que 'capital' es una columna\n",
        "\n",
        "copia_paises # ya no aparece la columna 'capital'"
      ],
      "execution_count": null,
      "outputs": []
    },
    {
      "cell_type": "markdown",
      "metadata": {
        "id": "XHWmEEP4nHDq"
      },
      "source": [
        "### Renombrar columnas\n",
        "\n",
        "Utilizamos el método `rename`"
      ]
    },
    {
      "cell_type": "code",
      "metadata": {
        "id": "WeiUDCS4nFTS"
      },
      "source": [
        "# Para no grabar los cambios directamente en la tabla que se está trabajando, se realiza\n",
        "# la siguiente copia:\n",
        "copia_paises = paises.copy()   # el método 'copy' realiza una copia\n",
        "\n",
        "# Nota: Es importante SIEMPRE utilizar \".copy\" para realizar copias pues, de esta manera,\n",
        "# se duplica internamente la tabla original, evitando problemas de referenciación\n",
        "\n",
        "# El método 'rename' permite modificar los nombres de columnas específicas. Para ello se debe\n",
        "# colocar los nuevos nombres dentro del argumento 'columns':\n",
        "copia_paises = copia_paises.rename(\n",
        "    columns = {'country': 'Pais', 'area': 'Área', 'population': 'Población'} # este es un diccionario!\n",
        ")\n",
        "\n",
        "copia_paises # columnas renombradas!"
      ],
      "execution_count": null,
      "outputs": []
    },
    {
      "cell_type": "markdown",
      "metadata": {
        "id": "v6dpGR0cWcr6"
      },
      "source": [
        "### Cambio del tipo de dato de una columna\n",
        "\n",
        "Dado que cada columna admite un único tipo de dato, Pandas aplica automáticamente la transformación al tipo de dato más adecuado para cada columna. Sin embargo, al realizar diferentes operaciones sobre las columnas ya existentes, es frecuente que el significado de las columnas cambie para el analista.\n",
        "\n",
        "Si se analiza una variable cualitativa (también llamada categórica) puede que esta se encuentra almacenada en forma de números, pero en realidad estos números no guardan relación de orden ni magnitud.\n",
        "\n",
        "Por ejemplo, una variable **IDENTIFICADOR_PLANTA** con los valores de 1, 2, 3 y 4 puede generar efectos no deseados si se introduce como numérica a un modelo de regresión, dado que se trata de una **variable categórica nominal**. En ese caso, es conveniente convertirla a tipo texto (`str` o `object`, según la tipificación de Pandas) ya que de esta manera ciertos modelos lo reconocerán como una variable categórica y le otorgarán el tratamiento adecuado."
      ]
    },
    {
      "cell_type": "code",
      "metadata": {
        "id": "PhUTqWFICRMn"
      },
      "source": [
        "# Se tiene la siguiente tabla de datos:\n",
        "x = pd.DataFrame({'ID_PLANTA': [1,2,3,4,1,2,3,4,1,2,3,4], 'MES':[1,1,1,1,2,2,2,2,3,3,3,3], 'PRODUCCION_TN':[11,8,3,22,31,12,32,7,14,24,18,17]})\n",
        "x"
      ],
      "execution_count": null,
      "outputs": []
    },
    {
      "cell_type": "code",
      "metadata": {
        "id": "Rv7ONGrsbnF2"
      },
      "source": [
        "# Verificamos los tipos de dato de cada columna utilizando el método 'dtypes':\n",
        "x.dtypes\n",
        "\n",
        "# Se observa que todos se reconocen como enteros (int64)"
      ],
      "execution_count": null,
      "outputs": []
    },
    {
      "cell_type": "code",
      "metadata": {
        "id": "lNnrZ9rvcTO4"
      },
      "source": [
        "# Realizamos el cambio de tipo de dato a la columna ID_PLANTA:\n",
        "x['ID_PLANTA'] = x['ID_PLANTA'].astype(str)\n",
        "\n",
        "x.dtypes # se realizó el cambio\n",
        "\n",
        "# Pandas asigna por defecto el tipo de dato 'object' cuando se especifica\n",
        "# una columna como de tipo texto (str)"
      ],
      "execution_count": null,
      "outputs": []
    },
    {
      "cell_type": "code",
      "metadata": {
        "id": "cm16DiQtfGB8"
      },
      "source": [
        "# La conversión previa funciona, pero gracias a que Pandas hace sinergia con diferentes\n",
        "# librerías, existen modelos analíticos que buscan columnas que sean específicamente del\n",
        "# tipo 'category', dándoles tratamiento automático. Es por ello que es preferible\n",
        "# realizar conversiones con el tipo 'category':\n",
        "x['ID_PLANTA'] = x['ID_PLANTA'].astype('category')\n",
        "\n",
        "x.dtypes # se realizó el cambio"
      ],
      "execution_count": null,
      "outputs": []
    },
    {
      "cell_type": "markdown",
      "metadata": {
        "id": "3sDKcb3igUyx"
      },
      "source": [
        "### Creación de nuevas columnas\n",
        "\n",
        "Es posible crear variables nuevas a partir de las ya existentes para describir mejor los patrones descubiertos en los datos\n",
        "\n",
        "Por ejemplo, si se está construyendo un modelo lineal generalizado (MLG) se desea introducir variables elevadas al cuadrado, interacciones explícitas mediante multiplicaciones, ratios entre variables, etc.\n",
        "\n",
        "En Pandas, estas acciones se realizan invocando los nombres de las variables originales que se desean combinar."
      ]
    },
    {
      "cell_type": "code",
      "metadata": {
        "id": "ref8VTL_iC3I"
      },
      "source": [
        "# En el ejemplo de países teníamos:\n",
        "paises"
      ],
      "execution_count": null,
      "outputs": []
    },
    {
      "cell_type": "code",
      "metadata": {
        "id": "pZvhizEhiRmy"
      },
      "source": [
        "# Creamos un ratio:\n",
        "paises['RATIO_POP_AREA'] = paises['population'] / paises['area']\n",
        "\n",
        "# Elevando al cuadrado:\n",
        "paises['POPULATION^2'] = paises['population'] ** 2\n",
        "\n",
        "# Extracción de las 3 primeras letras de cada país:\n",
        "paises['COUNTRY_ABREVIADO'] = paises['country'].str[0:3] # el método '.str' permite aplicar métodos de str por cada item de una columna\n",
        "\n",
        "# Visualizamos la nueva tabla:\n",
        "paises"
      ],
      "execution_count": null,
      "outputs": []
    },
    {
      "cell_type": "markdown",
      "metadata": {
        "id": "cxmBrKwv9rfj"
      },
      "source": [
        "Tutorial completo: https://pandas.pydata.org/pandas-docs/stable/getting_started/10min.html"
      ]
    },
    {
      "cell_type": "markdown",
      "metadata": {
        "id": "1kRnsmRNjydX"
      },
      "source": [
        "# Funciones y estructuras de control\n",
        "\n",
        "El uso de librerías facilita el trabajo con datos, pero sus bondades pueden ser potenciadas por herramientas que permitan ensamblar diferentes componentes en estructuras que plasman los criterios operativos del analista, creando mejores programas.\n",
        "\n",
        "Las **estructuras de control** proveen estas herramientas, permitiendo **controlar el flujo de los datos y las operaciones que se realizan sobre estos**. Las **funciones**, en cambio, permiten **encapsular acciones repetitivas** para simplificar su frecuente aplicación con una lógica de entrada-salida.\n",
        "\n",
        "En Python se suelen manejar 2 tipos de estructuras de control:\n",
        "\n",
        "1. Selectivas: Tienen una estructura de árbol que selecciona una serie de acciones según el resultado `True/False` de una condición. En Python se declaran con `if, elif, else`.\n",
        "1. Iteración (conocidos como *loops*): Generan la repetición de determinadas operaciones por un determinado número de veces, el cual puede estar sujeto a una cantidad predefinida o la evaluación de alguna condición. En Python se declaran con `for, while`.\n",
        "\n",
        "![texto alternativo](http://net-informations.com/python/flow/img/control.png)\n",
        "\n",
        "Sintaxis de estructuras selectivas:\n",
        "\n",
        "```` python\n",
        "if condicion: #primera condición\n",
        "  accion(es)\n",
        "elif condicion_2: #segunda condición, evaluada en caso la primera sea falsa\n",
        "  accion(es)\n",
        "else: #si todo lo anterior es falso, efectúa estas acciones\n",
        "  accion(es)\n",
        "````\n",
        "\n",
        "Sintaxis de estructuras iterativas:\n",
        "```` python\n",
        "for ìterador in secuencia_finita: # las acciones se repiten hasta que la secuencia acabe\n",
        "  accion(es)\n",
        "````\n",
        "\n",
        "```` python\n",
        "while condicion: # se repiten las acciones hasta que la condición deja de cumplirse\n",
        "  accion(es)\n",
        "````\n",
        "En Python las funciones se declaran de la siguiente manera:\n",
        "![texto alternativo](https://www.learnbyexample.org/wp-content/uploads/python/Python-Function-Syntax.png)\n",
        "\n",
        "> En Python, es importante respetar la **indentación en funciones y estructuras de control**. Esto implica que las acciones a ejecutarse tras el cumplimiento de la condición de control, deben estar 2 espacios a la derecha de la palabra clave. De lo contrario, aparecerá un error."
      ]
    },
    {
      "cell_type": "code",
      "metadata": {
        "id": "qLt5z0-grdXJ"
      },
      "source": [
        "# Ejemplo de uso de 'IF': Verificar s el número dentro de 'a' es mayor que 'b':\n",
        "\n",
        "a = 100\n",
        "b = 300\n",
        "\n",
        "if a > b:\n",
        "  print(\"El elemento 'a' es mayor que 'b'\") # se ejecuta sólo si la condición previa se cumple\n",
        "  \n",
        "# Tras ejecutarlo, no se imprime mensaje alguno"
      ],
      "execution_count": null,
      "outputs": []
    },
    {
      "cell_type": "code",
      "metadata": {
        "id": "HKatHfvit6FJ"
      },
      "source": [
        "# Se crea un mensaje para todos los casos donde la condición no se cumple,\n",
        "# utilizando 'else':\n",
        "\n",
        "a = 100\n",
        "b = 300\n",
        "\n",
        "if a > b:\n",
        "  print(\"El elemento 'a' es mayor que 'b'\") # se ejecuta sólo si la condición previa se cumple\n",
        "else:\n",
        "  print(\"El elemento 'b' es mayor que 'a'\")"
      ],
      "execution_count": null,
      "outputs": []
    },
    {
      "cell_type": "code",
      "metadata": {
        "id": "TS5HEgIhuNoh"
      },
      "source": [
        "# En el ejemplo anterior existe un vacío: ¿qué ocurre si ambos son idénticos?\n",
        "# Es necesario crear una ramificación adicional de decisión para cubrir todas\n",
        "# las posibilidades (con 'elif' que es similar a 'de lo contrario, si'):\n",
        "\n",
        "a = 100\n",
        "b = 100 # se cambió a 100\n",
        "\n",
        "if a > b:                                         # SI\n",
        "  print(\"El elemento 'a' es mayor que 'b'\")\n",
        "elif a == b:                                      # DE LO CONTRARIO, SI. Podemos anidar muchos 'elif'\n",
        "  print(\"El elemento 'a' es igual a 'b'\")\n",
        "else:                                             # DE LO CONTRARIO\n",
        "  print(\"El elemento 'b' es mayor que 'a'\")"
      ],
      "execution_count": null,
      "outputs": []
    },
    {
      "cell_type": "code",
      "metadata": {
        "id": "tUx68-vdu4MY"
      },
      "source": [
        "# Caso de estructura iterativa del tipo 'for':\n",
        "for i in range(10):  # se repite 10 veces\n",
        "  print(i)"
      ],
      "execution_count": null,
      "outputs": []
    },
    {
      "cell_type": "code",
      "metadata": {
        "id": "dzan_W0oxy00"
      },
      "source": [
        "for i in ['Gold', 'Fields']: # es posible pasar listas\n",
        "  print(i)"
      ],
      "execution_count": null,
      "outputs": []
    },
    {
      "cell_type": "code",
      "metadata": {
        "id": "KJd492-Zx4ou"
      },
      "source": [
        "for i in paises['country']: # también es posible consumir pd.Series, y más clases de objetos\n",
        "  print(i)"
      ],
      "execution_count": null,
      "outputs": []
    },
    {
      "cell_type": "code",
      "metadata": {
        "id": "SIJII3lfyGGg"
      },
      "source": [
        "# Caso de estructuras de control del tipo 'while':\n",
        "i = 0 # definimos un iterador afuera\n",
        "\n",
        "while paises['country'][i] != 'China':\n",
        "  print(paises['country'][i])\n",
        "  i = i + 1 # debemos incrementar el contador para avanzar las posiciones. De lo contrario,\n",
        "            # se tendrían repeticiones infinitas y sería necesario detener Python"
      ],
      "execution_count": null,
      "outputs": []
    },
    {
      "cell_type": "code",
      "metadata": {
        "id": "YFMj9fLRy1y9"
      },
      "source": [
        "# Se define una función para evaluar si un número es par:\n",
        "\n",
        "def evalua_par(numero):\n",
        "  es_par = (numero % 2) == 0\n",
        "  \n",
        "  if es_par:\n",
        "    print('El número {} es par'.format(numero))\n",
        "  else:\n",
        "    print('El número {} es impar'.format(numero))\n",
        "  \n",
        "  return es_par\n",
        "\n",
        "# Verificamos el comportamiento:\n",
        "print( evalua_par(8) )\n",
        "print( evalua_par(15) )"
      ],
      "execution_count": null,
      "outputs": []
    },
    {
      "cell_type": "code",
      "metadata": {
        "id": "atF3g6tZ42_d"
      },
      "source": [],
      "execution_count": null,
      "outputs": []
    }
  ]
}